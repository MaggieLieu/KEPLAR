{
 "cells": [
  {
   "cell_type": "code",
   "execution_count": 1,
   "metadata": {},
   "outputs": [],
   "source": [
    "from astroquery.mast import Mast\n",
    "from astroquery.mast import Observations\n",
    "import matplotlib.pyplot as plt\n",
    "import numpy as np\n",
    "import pandas as pd\n",
    "from astropy.io import fits\n",
    "import wget"
   ]
  },
  {
   "cell_type": "code",
   "execution_count": 2,
   "metadata": {},
   "outputs": [],
   "source": [
    "#Get Keplar IDs of confirmed non-planets and confirmed planets. Tables from NASA exoplanet archive.\n",
    "nplanets = pd.read_csv('non_planets.csv', skiprows=17) \n",
    "planets = pd.read_csv('planets_keplar.csv')"
   ]
  },
  {
   "cell_type": "markdown",
   "metadata": {},
   "source": [
    "Note not all the objects have light curve data"
   ]
  },
  {
   "cell_type": "code",
   "execution_count": 3,
   "metadata": {},
   "outputs": [],
   "source": [
    "def download_keplar_file(target_name, cadence=0):\n",
    "    keplerObs = Observations.query_criteria(target_name=target_name, obs_collection='Kepler')\n",
    "    \n",
    "    if cadence == 0:\n",
    "        cadstr = 'LLC'\n",
    "    elif cadence ==1:\n",
    "        cadstr = 'SLC'\n",
    "    else:\n",
    "        raise Exception('cadence must be 0 or 1')\n",
    "    \n",
    "    if(len(keplerObs)>0):\n",
    "        keplerProds = Observations.get_product_list(keplerObs[cadence]) #0 for long cadence data, 1 for short cadence data\n",
    "        Prod = Observations.filter_products(keplerProds, productSubGroupDescription=cadstr)\n",
    "\n",
    "        # Download first data product\n",
    "        url = 'https://mast.stsci.edu/api/v0.1/Download/file?uri='+Prod['dataURI'][0] \n",
    "        filename = wget.download(url)\n",
    "        return(filename)\n",
    "    else:\n",
    "        raise Exception('No data for this object')"
   ]
  },
  {
   "cell_type": "code",
   "execution_count": null,
   "metadata": {},
   "outputs": [],
   "source": [
    "i=4\n",
    "target_name = 'kplr'+'0'*(9-len(str(planets['kepid'][i])))+str(planets['kepid'][i])\n",
    "filename = download_keplar_file(target_name, cadence=0)#0 for long cadence data, 1 for short cadence data"
   ]
  },
  {
   "cell_type": "code",
   "execution_count": null,
   "metadata": {},
   "outputs": [],
   "source": [
    "with fits.open(filename, mode=\"readonly\") as hdulist:\n",
    "    # Read in the \"BJDREF\" which is the time offset of the time array.\n",
    "    bjdrefi = hdulist[1].header['BJDREFI'] \n",
    "    bjdreff = hdulist[1].header['BJDREFF']\n",
    "\n",
    "    # Read in the columns of data.\n",
    "    times = hdulist[1].data['time'] \n",
    "    sap_fluxes = hdulist[1].data['SAP_FLUX'] #Simple Aperture Photometry flux\n",
    "    pdcsap_fluxes = hdulist[1].data['PDCSAP_FLUX'] #Pre-search Data Conditioning Simple Aperture Photometry is processed flux"
   ]
  },
  {
   "cell_type": "code",
   "execution_count": null,
   "metadata": {},
   "outputs": [],
   "source": [
    "plt.plot(times, sap_fluxes);"
   ]
  },
  {
   "cell_type": "code",
   "execution_count": null,
   "metadata": {},
   "outputs": [],
   "source": [
    "target_name"
   ]
  },
  {
   "cell_type": "markdown",
   "metadata": {},
   "source": [
    "# Non planets"
   ]
  },
  {
   "cell_type": "code",
   "execution_count": 315,
   "metadata": {},
   "outputs": [],
   "source": [
    "i = 9\n",
    "target_name = 'kplr'+'0'*(9-len(str(nplanets['kepid'][i])))+str(nplanets['kepid'][i])\n",
    "filename = download_keplar_file(target_name, cadence=0) #only long cadence data for non planets"
   ]
  },
  {
   "cell_type": "code",
   "execution_count": 316,
   "metadata": {},
   "outputs": [],
   "source": [
    "with fits.open(filename, mode=\"readonly\") as hdulist:\n",
    "    # Read in the \"BJDREF\" which is the time offset of the time array.\n",
    "    bjdrefi = hdulist[1].header['BJDREFI'] \n",
    "    bjdreff = hdulist[1].header['BJDREFF']\n",
    "\n",
    "    # Read in the columns of data.\n",
    "    times = hdulist[1].data['time'] \n",
    "    sap_fluxes = hdulist[1].data['SAP_FLUX'] #Simple Aperture Photometry flux\n",
    "    pdcsap_fluxes = hdulist[1].data['PDCSAP_FLUX'] #Pre-search Data Conditioning Simple Aperture Photometry is processed flux"
   ]
  },
  {
   "cell_type": "code",
   "execution_count": 317,
   "metadata": {},
   "outputs": [
    {
     "data": {
      "image/png": "[encoded data removed]",
      "text/plain": [
       "<Figure size 432x288 with 1 Axes>"
      ]
     },
     "metadata": {
      "needs_background": "light"
     },
     "output_type": "display_data"
    }
   ],
   "source": [
    "plt.plot(times, sap_fluxes);"
   ]
  },
  {
   "cell_type": "code",
   "execution_count": null,
   "metadata": {},
   "outputs": [],
   "source": []
  }
 ],
 "metadata": {
  "kernelspec": {
   "display_name": "astro_ts",
   "language": "python",
   "name": "astro_ts"
  },
  "language_info": {
   "codemirror_mode": {
    "name": "ipython",
    "version": 3
   },
   "file_extension": ".py",
   "mimetype": "text/x-python",
   "name": "python",
   "nbconvert_exporter": "python",
   "pygments_lexer": "ipython3",
   "version": "3.7.7"
  }
 },
 "nbformat": 4,
 "nbformat_minor": 2
}
